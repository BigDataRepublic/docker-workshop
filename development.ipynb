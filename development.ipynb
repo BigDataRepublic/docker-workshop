{
 "cells": [
  {
   "cell_type": "code",
   "execution_count": 11,
   "metadata": {},
   "outputs": [],
   "source": [
    "import pandas as pd\n",
    "import os\n",
    "from sklearn.model_selection import train_test_split\n",
    "os.chdir(os.getcwd())\n"
   ]
  },
  {
   "cell_type": "code",
   "execution_count": 20,
   "metadata": {},
   "outputs": [
    {
     "name": "stdout",
     "output_type": "stream",
     "text": [
      "0         0\n",
      "1         0\n",
      "2         0\n",
      "3         0\n",
      "4         0\n",
      "         ..\n",
      "122405    1\n",
      "122406    1\n",
      "122407    1\n",
      "122408    1\n",
      "122409    1\n",
      "Name: round_winner, Length: 122410, dtype: int64\n"
     ]
    }
   ],
   "source": [
    "# Read the data\n",
    "data = pd.read_csv(os.getcwd()+'/data/csgo_round_snapshots.csv')\n",
    "data.describe()\n",
    "\n",
    "# Map the team name to integer target variable\n",
    "team_dict = {'CT':0, 'T':1}\n",
    "data['round_winner'] = data['round_winner'].map(team_dict)\n"
   ]
  },
  {
   "cell_type": "code",
   "execution_count": 58,
   "metadata": {},
   "outputs": [],
   "source": [
    "from sklearn.preprocessing import OneHotEncoder\n",
    "\n",
    "enc = OneHotEncoder()\n",
    "enc.fit_transform(data)\n",
    "\n",
    "X = data.drop('round_winner', axis=1)\n",
    "y = data['round_winner']\n",
    "\n",
    "X_train, X_test, y_train, y_test = train_test_split(X, y, test_size=0.1)"
   ]
  },
  {
   "cell_type": "code",
   "execution_count": 59,
   "metadata": {},
   "outputs": [
    {
     "name": "stderr",
     "output_type": "stream",
     "text": [
      "/Users/menno/vantage/docker-workshop/venv/lib/python3.9/site-packages/lightgbm/sklearn.py:736: UserWarning: 'verbose' argument is deprecated and will be removed in a future release of LightGBM. Pass 'log_evaluation()' callback via 'callbacks' argument instead.\n",
      "  _log_warning(\"'verbose' argument is deprecated and will be removed in a future release of LightGBM. \"\n"
     ]
    },
    {
     "name": "stdout",
     "output_type": "stream",
     "text": [
      "0.9228821174740626\n"
     ]
    }
   ],
   "source": [
    "import lightgbm as lgb\n",
    "lgbm_model = lgb.LGBMClassifier(n_estimators=25000)\n",
    "lgbm_model.fit(X_train, y_train, verbose=20)\n",
    "\n",
    "print(lgbm_model.score(X_test, y_test))\n"
   ]
  },
  {
   "cell_type": "code",
   "execution_count": 55,
   "metadata": {},
   "outputs": [
    {
     "name": "stdout",
     "output_type": "stream",
     "text": [
      "88.63536099999999\n"
     ]
    }
   ],
   "source": [
    "import pickle\n",
    "import sys\n",
    "p = pickle.dumps(lgbm_model)\n",
    "print(sys.getsizeof(p)*1e-6) # Model size in bytes to MB (*0.000001)"
   ]
  },
  {
   "cell_type": "code",
   "execution_count": 61,
   "metadata": {},
   "outputs": [
    {
     "data": {
      "text/plain": [
       "['model/encoder.joblib']"
      ]
     },
     "execution_count": 61,
     "metadata": {},
     "output_type": "execute_result"
    }
   ],
   "source": [
    "from joblib import dump\n",
    "dump(lgbm_model, 'model/lgbm_model.joblib', compress=3)\n",
    "dump(enc, 'model/encoder.joblib')\n"
   ]
  },
  {
   "cell_type": "code",
   "execution_count": null,
   "metadata": {},
   "outputs": [],
   "source": []
  }
 ],
 "metadata": {
  "kernelspec": {
   "display_name": "docker-workshop-venv",
   "language": "python",
   "name": "docker-workshop-venv"
  },
  "language_info": {
   "codemirror_mode": {
    "name": "ipython",
    "version": 3
   },
   "file_extension": ".py",
   "mimetype": "text/x-python",
   "name": "python",
   "nbconvert_exporter": "python",
   "pygments_lexer": "ipython3",
   "version": "3.9.12"
  },
  "orig_nbformat": 4
 },
 "nbformat": 4,
 "nbformat_minor": 2
}
